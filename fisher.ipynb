{
 "cells": [
  {
   "cell_type": "code",
   "execution_count": 37,
   "metadata": {
    "collapsed": false
   },
   "outputs": [
    {
     "name": "stdout",
     "output_type": "stream",
     "text": [
      "Populating the interactive namespace from numpy and matplotlib\n"
     ]
    }
   ],
   "source": [
    "%pylab inline"
   ]
  },
  {
   "cell_type": "code",
   "execution_count": 57,
   "metadata": {
    "collapsed": true
   },
   "outputs": [],
   "source": [
    "import camb"
   ]
  },
  {
   "cell_type": "code",
   "execution_count": 58,
   "metadata": {
    "collapsed": false
   },
   "outputs": [],
   "source": [
    "z,_=loadtxt(\"camb_rpc/cosmomc/camb/xefid.dat\").T\n",
    "\n",
    "dl=20\n",
    "w=hstack([ones(len(z)-dl),(cos(pi*arange(dl)/(dl-1))+1)/2])\n",
    "modes=loadtxt(\"camb_rpc/cosmomc/camb/xepcs.dat\")[1:]*w\n",
    "\n",
    "cp=camb.set_params(As=1e-9)\n",
    "r=camb.get_results(cp)\n",
    "fidxe=cp.Reion.get_xe(1/(1+z))"
   ]
  },
  {
   "cell_type": "code",
   "execution_count": 59,
   "metadata": {
    "collapsed": false
   },
   "outputs": [],
   "source": [
    "def get_f(ps):\n",
    "    \n",
    "    par = ps.values()\n",
    "    nobs = 3\n",
    "    npar = len(par)\n",
    "    \n",
    "    def run(par):\n",
    "\n",
    "        cp=camb.set_params(lmax=5000,**{k:v for k,v in zip(ps,par) if 'xe_m' not in k})\n",
    "        cp.k_eta_max_scalar=10000\n",
    "        cp.DoLensing=True\n",
    "        cp.NonLinear=2\n",
    "        xe=fidxe.copy()\n",
    "        for i in range(95):\n",
    "            try:\n",
    "                j=list(ps).index('xe_m_%i'%i)            \n",
    "            except ValueError:\n",
    "                pass\n",
    "            else:\n",
    "                xe+=par[j]*modes[i]\n",
    "                cp.Reion.set_xe(1/(1+z),xe)\n",
    "        r=camb.get_results(cp)\n",
    "\n",
    "        ucls = r.get_unlensed_scalar_cls(lmax)\n",
    "        lcls = r.get_lens_potential_cls(lmax)\n",
    "\n",
    "        ell = arange(lmin,lmax)\n",
    "        scale = (2.73e6)**2*2*pi/ell/(ell+1) \n",
    "\n",
    "        tt,ee,te = scale*ucls[lmin:lmax,[0,1,3]].T\n",
    "        td,dd    = scale*lcls[lmin:lmax,[1,0]].T\n",
    "\n",
    "        return ell, tt, ee, dd, te, td \n",
    "\n",
    "\n",
    "    def cov_obs(par, Tels):\n",
    "        Cov  = zeros((lmax, nobs, nobs)) \n",
    "\n",
    "        fsky, noise_T, noise_P, beam = Tels\n",
    "        ell, tt, ee, dd, te, td = run(par)\n",
    "\n",
    "        for i in range(len(ell)):\n",
    "            l = ell[i]\n",
    "            Blm2 = exp(l*(l+1)*beam**2/(8*log(2)))        \n",
    "\n",
    "            Cov[i][0][0]  = tt[i] + noise_T*Blm2\n",
    "            Cov[i][1][1]  = ee[i] + noise_P*Blm2\n",
    "            Cov[i][2][2]  = dd[i] + noise_dd[i] \n",
    "            Cov[i][0][1]  = te[i]\n",
    "            Cov[i][1][0]  = te[i]\n",
    "            Cov[i][0][2]  = td[i]\n",
    "            Cov[i][2][0]  = td[i]\n",
    "        return ell, Cov\n",
    "\n",
    "    def finite_diff(par, Tels):\n",
    "        Cov_par = zeros((lmax, npar, nobs, nobs))\n",
    "\n",
    "        for i in range(npar):\n",
    "            par_l    = [x for x in par]\n",
    "            par_r    = [x for x in par]\n",
    "\n",
    "#             if 'xe_m' in list(ps)[i]:\n",
    "            if par[i]==0:\n",
    "                delta = 0.03\n",
    "            else:\n",
    "                delta = par[i]*0.03\n",
    "\n",
    "            par_l[i] = par[i]-delta\n",
    "            par_r[i] = par[i]+delta\n",
    "            print i, par[i], par_l[i], par_r[i]\n",
    "\n",
    "            ell, Cov_l = cov_obs(par_l, Tels)\n",
    "            ell, Cov_r = cov_obs(par_r, Tels)\n",
    "\n",
    "            Cov_par[:,i,:,:] = (Cov_r-Cov_l)/(2*delta)\n",
    "\n",
    "        return  Cov_par\n",
    "\n",
    "\n",
    "    def fisher(par, Tels):\n",
    "        alpha     = zeros((npar, npar))\n",
    "        alpha_l   = zeros(lmax)\n",
    "        fsky      = Tels[0]\n",
    "\n",
    "        ell, Cov  = cov_obs(par, Tels)\n",
    "        Cov_par   = finite_diff(par, Tels)\n",
    "\n",
    "        for i in range(npar):\n",
    "            for j in range(npar):\n",
    "                for l in range(len(ell)):\n",
    "                    Hess = inv(Cov[l,:,:])\n",
    "                    matr = dot(dot(Hess, Cov_par[l,i,:,:]), dot(Hess, Cov_par[l,j,:,:]))\n",
    "                    alpha_l[l] = (2*ell[l]+1)/2.*fsky*trace(matr)\n",
    "                alpha[i][j] = sum(alpha_l)\n",
    "\n",
    "        return alpha\n",
    "\n",
    "\n",
    "\n",
    "\n",
    "    #               fsky    noise_T            noise_P            FWHM\n",
    "    CMB_S4 = array([0.5, (1.5/60./57.4)**2, 2*(1.5/60./57.4)**2, 1./60./57.4])\n",
    "\n",
    "    lmin, lmax = 20, 3000\n",
    "\n",
    "    noise_dd = (2.73e6**2)*loadtxt('noise_dd.dat')\n",
    "    \n",
    "\n",
    "    alpha = fisher(par, CMB_S4)\n",
    "    if 'tau' in ps:\n",
    "        i=list(ps).index('tau'); alpha[i][i] += 1/0.01**2 #tau prior\n",
    "    return alpha"
   ]
  },
  {
   "cell_type": "code",
   "execution_count": 54,
   "metadata": {
    "collapsed": false
   },
   "outputs": [],
   "source": [
    "ps_tau = {\n",
    "    'As':2.215e-9,\n",
    "    'ns':0.9619,\n",
    "    'tau':0.095,\n",
    "    'H0':67,\n",
    "    'ombh2':0.022068,\n",
    "    'omch2':0.1209,\n",
    "    'mnu':0.085,\n",
    "    'nrun':0,\n",
    "}\n",
    "\n",
    "ps_reio=ps_tau.copy()\n",
    "ps_reio.pop('tau')\n",
    "for i in range(5): ps_reio['xe_m_%i'%i]=0"
   ]
  },
  {
   "cell_type": "code",
   "execution_count": 55,
   "metadata": {
    "collapsed": false
   },
   "outputs": [
    {
     "name": "stdout",
     "output_type": "stream",
     "text": [
      "0 0.095 0.09215 0.09785\n",
      "1 2.215e-09 2.14855e-09 2.28145e-09\n",
      "2 0.1209 0.117273 0.124527\n",
      "3 0 -0.03 0.03\n",
      "4 67 64.99 69.01\n",
      "5 0.9619 0.933043 0.990757\n",
      "6 0.022068 0.02140596 0.02273004\n",
      "7 0.085 0.08245 0.08755\n"
     ]
    }
   ],
   "source": [
    "fcmb_tau = get_f(ps_tau)\n",
    "fcmb_reio = get_f(ps_reio)"
   ]
  },
  {
   "cell_type": "code",
   "execution_count": 43,
   "metadata": {
    "collapsed": false
   },
   "outputs": [],
   "source": [
    "fdesi=loadtxt(\"s4/F_DESI.dat\")\n",
    "fdesi[3]/=100\n",
    "fdesi[:,3]/=100\n",
    "\n",
    "a=identity(7)\n",
    "a[4:6,4:6]=inv(array([[1,-1],\n",
    "                      [0,1]]))\n",
    "fdesi=dot(a.T,dot(fdesi,a))"
   ]
  },
  {
   "cell_type": "code",
   "execution_count": 44,
   "metadata": {
    "collapsed": false
   },
   "outputs": [],
   "source": [
    "def add_desi(f,ps):\n",
    "    f=f.copy()\n",
    "    idesi=[3,6,5,4]\n",
    "    icmb=[list(ps).index(k) for k in ['H0','mnu','omch2','ombh2']]\n",
    "    f[ix_(icmb,icmb)]+=fdesi[ix_(idesi,idesi)]\n",
    "    return f"
   ]
  },
  {
   "cell_type": "code",
   "execution_count": 45,
   "metadata": {
    "collapsed": true
   },
   "outputs": [],
   "source": [
    "def get_sigma_p(f,ps,p):\n",
    "    i=list(ps).index(p)\n",
    "    return sqrt(inv(f)[i,i])\n",
    "\n",
    "def get_sigma_mnu(f,ps): \n",
    "    return get_sigma_p(f,ps,'mnu')"
   ]
  },
  {
   "cell_type": "code",
   "execution_count": 56,
   "metadata": {
    "collapsed": false
   },
   "outputs": [
    {
     "data": {
      "text/plain": [
       "(0.051822790341627546, 13.244134720797211)"
      ]
     },
     "execution_count": 56,
     "metadata": {},
     "output_type": "execute_result"
    }
   ],
   "source": [
    "get_sigma_mnu(fcmb_tau,ps_tau), get_sigma_mnu(fcmb_reio,ps_reio)"
   ]
  },
  {
   "cell_type": "code",
   "execution_count": 51,
   "metadata": {
    "collapsed": false
   },
   "outputs": [
    {
     "data": {
      "text/plain": [
       "(0.048817741936286983, 0.078595069495662959)"
      ]
     },
     "execution_count": 51,
     "metadata": {},
     "output_type": "execute_result"
    }
   ],
   "source": [
    "get_sigma_mnu(fcmb_tau,ps_tau), get_sigma_mnu(fcmb_reio,ps_reio)"
   ]
  },
  {
   "cell_type": "code",
   "execution_count": 47,
   "metadata": {
    "collapsed": false
   },
   "outputs": [
    {
     "data": {
      "text/plain": [
       "(0.056186432534400116, 0.078595069495662959)"
      ]
     },
     "execution_count": 47,
     "metadata": {},
     "output_type": "execute_result"
    }
   ],
   "source": [
    "get_sigma_mnu(fcmb_tau,ps_tau), get_sigma_mnu(fcmb_reio,ps_reio)"
   ]
  },
  {
   "cell_type": "code",
   "execution_count": 48,
   "metadata": {
    "collapsed": false
   },
   "outputs": [
    {
     "data": {
      "text/plain": [
       "(0.032639634907481778, 0.045990935010054322)"
      ]
     },
     "execution_count": 48,
     "metadata": {},
     "output_type": "execute_result"
    }
   ],
   "source": [
    "get_sigma_mnu(add_desi(fcmb_tau,ps_tau),ps_tau), get_sigma_mnu(add_desi(fcmb_reio,ps_reio),ps_reio)"
   ]
  }
 ],
 "metadata": {
  "kernelspec": {
   "display_name": "Python 2",
   "language": "python",
   "name": "python2"
  },
  "language_info": {
   "codemirror_mode": {
    "name": "ipython",
    "version": 2
   },
   "file_extension": ".py",
   "mimetype": "text/x-python",
   "name": "python",
   "nbconvert_exporter": "python",
   "pygments_lexer": "ipython2",
   "version": "2.7.6"
  }
 },
 "nbformat": 4,
 "nbformat_minor": 0
}
